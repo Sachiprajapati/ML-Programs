{
  "nbformat": 4,
  "nbformat_minor": 0,
  "metadata": {
    "colab": {
      "provenance": [],
      "authorship_tag": "ABX9TyO3F8RDFxtj7FDM1bUzu/a+",
      "include_colab_link": true
    },
    "kernelspec": {
      "name": "python3",
      "display_name": "Python 3"
    },
    "language_info": {
      "name": "python"
    }
  },
  "cells": [
    {
      "cell_type": "markdown",
      "metadata": {
        "id": "view-in-github",
        "colab_type": "text"
      },
      "source": [
        "<a href=\"https://colab.research.google.com/github/Sachiprajapati/ML-Programs/blob/main/sentiment_analysis.ipynb\" target=\"_parent\"><img src=\"https://colab.research.google.com/assets/colab-badge.svg\" alt=\"Open In Colab\"/></a>"
      ]
    },
    {
      "cell_type": "code",
      "source": [
        "import pandas as pd\n",
        "import numpy as np\n",
        "import nltk\n",
        "import matplotlib.pyplot as plt\n",
        "import seaborn as sns\n",
        "from wordcloud import WordCloud\n",
        "from nltk.sentiment import SentimentIntensityAnalyzer\n",
        "from sklearn.feature_extraction.text import TfidfVectorizer\n",
        "from sklearn.model_selection import train_test_split\n",
        "from sklearn.linear_model import LogisticRegression\n",
        "from sklearn.metrics import accuracy_score, classification_report\n",
        "\n",
        "file_path = \"sentiment_analysis.csv\"\n",
        "df = pd.read_csv(file_path)\n",
        "\n",
        "nltk.download('vader_lexicon')\n",
        "sia = SentimentIntensityAnalyzer()\n",
        "\n",
        "def get_sentiment(text):\n",
        "    score = sia.polarity_scores(text)['compound']\n",
        "    return 'positive' if score >= 0 else 'negative'\n",
        "\n",
        "df['predicted_sentiment'] = df['text'].apply(get_sentiment)\n",
        "\n",
        "vectorizer = TfidfVectorizer(stop_words='english')\n",
        "X = vectorizer.fit_transform(df['text'])\n",
        "y = df['sentiment']\n",
        "\n",
        "X_train, X_test, y_train, y_test = train_test_split(X, y, test_size=0.2, random_state=42)\n",
        "\n",
        "model = LogisticRegression()\n",
        "model.fit(X_train, y_train)\n",
        "\n",
        "y_pred = model.predict(X_test)\n",
        "print(\"Accuracy:\", accuracy_score(y_test, y_pred))\n",
        "print(classification_report(y_test, y_pred))\n",
        "\n",
        "def predict_sentiment(text):\n",
        "    transformed_text = vectorizer.transform([text])\n",
        "    return model.predict(transformed_text)[0]\n",
        "\n",
        "example_tweets = [\n",
        "    \"I love this new movie!\",\n",
        "    \"The service at this restaurant was terrible.\",\n",
        "    \"What a fantastic experience at the park today!\"\n",
        "]\n",
        "\n",
        "for tweet in example_tweets:\n",
        "    print(f\"Tweet: {tweet}\\nPredicted Sentiment: {predict_sentiment(tweet)}\\n{'-'*50}\")\n",
        "\n",
        "plt.figure(figsize=(6, 4))\n",
        "sns.countplot(x=df['predicted_sentiment'], palette=\"viridis\")\n",
        "plt.title(\"Sentiment Distribution\")\n",
        "plt.xlabel(\"Sentiment\")\n",
        "plt.ylabel(\"Count\")\n",
        "plt.show()\n",
        "\n",
        "positive_words = \" \".join(df[df['predicted_sentiment'] == 'positive']['text'])\n",
        "negative_words = \" \".join(df[df['predicted_sentiment'] == 'negative']['text'])\n",
        "\n"
      ],
      "metadata": {
        "colab": {
          "base_uri": "https://localhost:8080/",
          "height": 898
        },
        "id": "_7w30oaatmqf",
        "outputId": "1f4a1d09-ffcc-4103-a3cb-04c64f820c42"
      },
      "execution_count": null,
      "outputs": [
        {
          "output_type": "stream",
          "name": "stderr",
          "text": [
            "[nltk_data] Downloading package vader_lexicon to /root/nltk_data...\n",
            "[nltk_data]   Package vader_lexicon is already up-to-date!\n"
          ]
        },
        {
          "output_type": "stream",
          "name": "stdout",
          "text": [
            "Accuracy: 0.63\n",
            "              precision    recall  f1-score   support\n",
            "\n",
            "    negative       0.85      0.31      0.45        36\n",
            "     neutral       0.47      1.00      0.64        30\n",
            "    positive       0.96      0.65      0.77        34\n",
            "\n",
            "    accuracy                           0.63       100\n",
            "   macro avg       0.76      0.65      0.62       100\n",
            "weighted avg       0.77      0.63      0.62       100\n",
            "\n",
            "Tweet: I love this new movie!\n",
            "Predicted Sentiment: positive\n",
            "--------------------------------------------------\n",
            "Tweet: The service at this restaurant was terrible.\n",
            "Predicted Sentiment: neutral\n",
            "--------------------------------------------------\n",
            "Tweet: What a fantastic experience at the park today!\n",
            "Predicted Sentiment: neutral\n",
            "--------------------------------------------------\n"
          ]
        },
        {
          "output_type": "stream",
          "name": "stderr",
          "text": [
            "<ipython-input-4-1612badd4a96>:52: FutureWarning: \n",
            "\n",
            "Passing `palette` without assigning `hue` is deprecated and will be removed in v0.14.0. Assign the `x` variable to `hue` and set `legend=False` for the same effect.\n",
            "\n",
            "  sns.countplot(x=df['predicted_sentiment'], palette=\"viridis\")\n"
          ]
        },
        {
          "output_type": "display_data",
          "data": {
            "text/plain": [
              "<Figure size 600x400 with 1 Axes>"
            ],
            "image/png": "[encoded data removed]"
          },
          "metadata": {}
        }
      ]
    }
  ]
}