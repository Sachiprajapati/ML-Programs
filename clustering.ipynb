{
  "nbformat": 4,
  "nbformat_minor": 0,
  "metadata": {
    "colab": {
      "provenance": [],
      "authorship_tag": "ABX9TyM1G36g5eUv+CQjjOFrGy85",
      "include_colab_link": true
    },
    "kernelspec": {
      "name": "python3",
      "display_name": "Python 3"
    },
    "language_info": {
      "name": "python"
    }
  },
  "cells": [
    {
      "cell_type": "markdown",
      "metadata": {
        "id": "view-in-github",
        "colab_type": "text"
      },
      "source": [
        "<a href=\"https://colab.research.google.com/github/Sachiprajapati/ML-Programs/blob/main/clustering.ipynb\" target=\"_parent\"><img src=\"https://colab.research.google.com/assets/colab-badge.svg\" alt=\"Open In Colab\"/></a>"
      ]
    },
    {
      "cell_type": "code",
      "execution_count": null,
      "metadata": {
        "id": "m_YrRH9PISU5"
      },
      "outputs": [],
      "source": [
        "import pandas as pd\n",
        "import numpy as np\n",
        "import matplotlib.pyplot as plt\n",
        "from sklearn.model_selection import train_test_split\n",
        "from sklearn.preprocessing import LabelEncoder, StandardScaler\n",
        "from sklearn.ensemble import BaggingClassifier, AdaBoostClassifier, StackingClassifier\n",
        "from sklearn.tree import DecisionTreeClassifier\n",
        "from sklearn.linear_model import LogisticRegression\n",
        "from sklearn.svm import SVC\n",
        "from sklearn.metrics import accuracy_score, classification_report\n",
        "from sklearn.cluster import KMeans, AgglomerativeClustering, DBSCAN\n",
        "file_path ='diabetes_data_upload.csv'\n",
        "data = pd.read_csv(file_path)"
      ]
    },
    {
      "cell_type": "code",
      "source": [
        "print(\"Dataset Info:\")\n",
        "print(data.info())\n",
        "\n",
        "data.fillna(data.mode().iloc[0], inplace=True)\n",
        "\n",
        "label_encoders = {}\n",
        "for column in data.select_dtypes(include=['object']).columns:\n",
        "    le = LabelEncoder()\n",
        "    data[column] = le.fit_transform(data[column])\n",
        "    label_encoders[column] = le\n",
        "\n",
        "X = data.drop(columns=['class'])\n",
        "y = data['class']\n",
        "\n",
        "X_train, X_test, y_train, y_test = train_test_split(X, y, test_size=0.2, random_state=42)\n",
        "\n",
        "scaler = StandardScaler()\n",
        "X_train_scaled = scaler.fit_transform(X_train)\n",
        "X_test_scaled = scaler.transform(X_test)"
      ],
      "metadata": {
        "colab": {
          "base_uri": "https://localhost:8080/"
        },
        "id": "HOpWP0J2IfqO",
        "outputId": "64d82d31-bdca-4049-89d6-c34f10b8bc3e"
      },
      "execution_count": null,
      "outputs": [
        {
          "output_type": "stream",
          "name": "stdout",
          "text": [
            "Dataset Info:\n",
            "<class 'pandas.core.frame.DataFrame'>\n",
            "RangeIndex: 520 entries, 0 to 519\n",
            "Data columns (total 17 columns):\n",
            " #   Column              Non-Null Count  Dtype\n",
            "---  ------              --------------  -----\n",
            " 0   Age                 520 non-null    int64\n",
            " 1   Gender              520 non-null    int64\n",
            " 2   Polyuria            520 non-null    int64\n",
            " 3   Polydipsia          520 non-null    int64\n",
            " 4   sudden weight loss  520 non-null    int64\n",
            " 5   weakness            520 non-null    int64\n",
            " 6   Polyphagia          520 non-null    int64\n",
            " 7   Genital thrush      520 non-null    int64\n",
            " 8   visual blurring     520 non-null    int64\n",
            " 9   Itching             520 non-null    int64\n",
            " 10  Irritability        520 non-null    int64\n",
            " 11  delayed healing     520 non-null    int64\n",
            " 12  partial paresis     520 non-null    int64\n",
            " 13  muscle stiffness    520 non-null    int64\n",
            " 14  Alopecia            520 non-null    int64\n",
            " 15  Obesity             520 non-null    int64\n",
            " 16  class               520 non-null    int64\n",
            "dtypes: int64(17)\n",
            "memory usage: 69.2 KB\n",
            "None\n"
          ]
        }
      ]
    },
    {
      "cell_type": "code",
      "source": [
        "kmeans = KMeans(n_clusters=2, random_state=42)\n",
        "kmeans_labels = kmeans.fit_predict(X_train_scaled)\n",
        "print(\"\\nK-Means Cluster Centers:\\n\", kmeans.cluster_centers_)\n",
        "\n",
        "\n"
      ],
      "metadata": {
        "colab": {
          "base_uri": "https://localhost:8080/"
        },
        "id": "Mc024DORIoP0",
        "outputId": "5ba2763f-e8f4-4199-a350-42884cf3b997"
      },
      "execution_count": null,
      "outputs": [
        {
          "output_type": "stream",
          "name": "stdout",
          "text": [
            "\n",
            "K-Means Cluster Centers:\n",
            " [[ 0.49845895 -0.29082857  0.54176196  0.59703099  0.48675741  0.46269377\n",
            "   0.61167842 -0.03798831  0.54580056  0.3246084   0.35379941  0.46917618\n",
            "   0.61333545  0.47805944 -0.05250489  0.14929158]\n",
            " [-0.44838544  0.26161291 -0.48733838 -0.53705527 -0.43785941 -0.41621311\n",
            "  -0.55023128  0.03417213 -0.49097128 -0.29199934 -0.31825791 -0.42204432\n",
            "  -0.55172184 -0.4300352   0.04723043 -0.13429425]]\n"
          ]
        }
      ]
    },
    {
      "cell_type": "code",
      "source": [
        "\n",
        "agglo = AgglomerativeClustering(n_clusters=2)\n",
        "agglo_labels = agglo.fit_predict(X_train_scaled)\n",
        "print(\"\\nAgglomerative Clustering Labels:\\n\", np.unique(agglo_labels))\n",
        "\n"
      ],
      "metadata": {
        "colab": {
          "base_uri": "https://localhost:8080/"
        },
        "id": "u_ujh43xIutO",
        "outputId": "47cd4ad6-c04c-40d5-d011-b892add28075"
      },
      "execution_count": null,
      "outputs": [
        {
          "output_type": "stream",
          "name": "stdout",
          "text": [
            "\n",
            "Agglomerative Clustering Labels:\n",
            " [0 1]\n"
          ]
        }
      ]
    },
    {
      "cell_type": "code",
      "source": [
        "\n",
        "dbscan = DBSCAN(eps=1.5, min_samples=5)\n",
        "dbscan_labels = dbscan.fit_predict(X_train_scaled)\n",
        "print(\"\\nDBSCAN Clustering Labels:\\n\", np.unique(dbscan_labels))\n"
      ],
      "metadata": {
        "id": "uUkI9sc1Ixvx",
        "outputId": "e2e9f2b5-10c0-4194-8952-4327817d857c",
        "colab": {
          "base_uri": "https://localhost:8080/"
        }
      },
      "execution_count": null,
      "outputs": [
        {
          "output_type": "stream",
          "name": "stdout",
          "text": [
            "\n",
            "DBSCAN Clustering Labels:\n",
            " [-1  0  1  2  3  4  5  6  7  8  9 10 11 12 13 14 15 16 17]\n"
          ]
        }
      ]
    }
  ]
}